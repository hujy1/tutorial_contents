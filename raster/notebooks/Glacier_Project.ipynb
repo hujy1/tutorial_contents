{
 "cells": [
  {
   "cell_type": "code",
   "execution_count": 1,
   "metadata": {},
   "outputs": [],
   "source": [
    "# Attempt to plot Khumbu dataset\n",
    "%matplotlib notebook"
   ]
  },
  {
   "cell_type": "code",
   "execution_count": 2,
   "metadata": {},
   "outputs": [],
   "source": [
    "# Import modules - make sure you activated your rasterenv environment!\n",
    "from osgeo import gdal\n",
    "import numpy as np\n",
    "import matplotlib.pyplot as plt\n",
    "import rasterio\n",
    "\n",
    "from pygeotools.lib import iolib, warplib, geolib, timelib, malib"
   ]
  },
  {
   "cell_type": "markdown",
   "metadata": {},
   "source": [
    "#### DEM sources:\n",
    "32 m DEM derived from WorldView Stereo imagery acquired from 2003 to 2016"
   ]
  },
  {
   "cell_type": "code",
   "execution_count": 5,
   "metadata": {},
   "outputs": [],
   "source": [
    "# Input DEM filenames\n",
    "dem_first_fn = '../data/khumbu_DEM_32m/20030507_0445_1010010001E01600_1010010001E01500-DEM_32m.tif'\n",
    "dem_last_fn = '../data/khumbu_DEM_32m/20161105_0448_1050010007140900_1050010007140B00-DEM_32m.tif'\n",
    "\n",
    "dem_fn_list = [dem_first_fn, dem_last_fn]\n",
    "\n",
    "# Next step: Find a way to read in all the files based on ending \"\""
   ]
  },
  {
   "cell_type": "code",
   "execution_count": 7,
   "metadata": {},
   "outputs": [
    {
     "name": "stdout",
     "output_type": "stream",
     "text": [
      "\n",
      "Warping all inputs to the following:\n",
      "Resolution: 32.0\n",
      "Extent: [482608.0, 3092432.0, 487696.0, 3104208.0]\n",
      "Projection: '+proj=utm +zone=45 +datum=WGS84 +units=m +no_defs '\n",
      "Resampling alg: cubic\n",
      "\n",
      "1 of 2: ../data/khumbu_DEM_32m/20030507_0445_1010010001E01600_1010010001E01500-DEM_32m.tif\n",
      "nl: 368 ns: 159 res: 32.000\n",
      "2 of 2: ../data/khumbu_DEM_32m/20161105_0448_1050010007140900_1050010007140B00-DEM_32m.tif\n",
      "nl: 368 ns: 159 res: 32.000\n"
     ]
    }
   ],
   "source": [
    "ds_list = warplib.memwarp_multi_fn(dem_fn_list, extent='intersection', res='min', t_srs=dem_last_fn)"
   ]
  },
  {
   "cell_type": "code",
   "execution_count": 8,
   "metadata": {},
   "outputs": [],
   "source": [
    "# Load datasets to NumPy masked arrays\n",
    "dem_2003, dem_2016 = [iolib.ds_getma(i) for i in ds_list]\n",
    "dem_list = [dem_2003, dem_2016]"
   ]
  },
  {
   "cell_type": "code",
   "execution_count": 9,
   "metadata": {},
   "outputs": [
    {
     "name": "stdout",
     "output_type": "stream",
     "text": [
      "(368, 159)\n",
      "float32\n"
     ]
    }
   ],
   "source": [
    "print(dem_2003.shape)\n",
    "print(dem_2003.dtype)"
   ]
  },
  {
   "cell_type": "code",
   "execution_count": 11,
   "metadata": {},
   "outputs": [
    {
     "data": {
      "text/plain": [
       "masked_array(\n",
       "  data=[[--, --, --, ..., 5477.2353515625, 5473.408203125,\n",
       "         5467.373046875],\n",
       "        [--, --, --, ..., 5467.6689453125, 5471.5732421875,\n",
       "         5470.2099609375],\n",
       "        [--, --, --, ..., 5459.9326171875, 5461.177734375, 5467.83984375],\n",
       "        ...,\n",
       "        [--, --, 4945.369140625, ..., 5594.8701171875, 5596.70703125,\n",
       "         5604.021484375],\n",
       "        [--, --, 4941.4912109375, ..., 5597.6181640625, 5604.826171875,\n",
       "         5614.9873046875],\n",
       "        [--, --, 4956.10546875, ..., 5590.6572265625, 5603.029296875,\n",
       "         5613.73828125]],\n",
       "  mask=[[ True,  True,  True, ..., False, False, False],\n",
       "        [ True,  True,  True, ..., False, False, False],\n",
       "        [ True,  True,  True, ..., False, False, False],\n",
       "        ...,\n",
       "        [ True,  True, False, ..., False, False, False],\n",
       "        [ True,  True, False, ..., False, False, False],\n",
       "        [ True,  True, False, ..., False, False, False]],\n",
       "  fill_value=0.0,\n",
       "  dtype=float32)"
      ]
     },
     "execution_count": 11,
     "metadata": {},
     "output_type": "execute_result"
    }
   ],
   "source": [
    "dem_2003 # check out that the masked values were noted in a mask layer from the iolib thing"
   ]
  },
  {
   "cell_type": "code",
   "execution_count": null,
   "metadata": {},
   "outputs": [],
   "source": [
    "# generate 3 panel plot for input arrays\n",
    "def plot3panel(dem_list, clim=none, titles=None, cmap=)"
   ]
  },
  {
   "cell_type": "code",
   "execution_count": null,
   "metadata": {},
   "outputs": [],
   "source": []
  }
 ],
 "metadata": {
  "kernelspec": {
   "display_name": "Python 3",
   "language": "python",
   "name": "python3"
  },
  "language_info": {
   "codemirror_mode": {
    "name": "ipython",
    "version": 3
   },
   "file_extension": ".py",
   "mimetype": "text/x-python",
   "name": "python",
   "nbconvert_exporter": "python",
   "pygments_lexer": "ipython3",
   "version": "3.6.6"
  }
 },
 "nbformat": 4,
 "nbformat_minor": 2
}
